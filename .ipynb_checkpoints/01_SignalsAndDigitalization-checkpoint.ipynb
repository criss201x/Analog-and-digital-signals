{
 "cells": [
  {
   "cell_type": "markdown",
   "metadata": {},
   "source": [
    "# Workshop 1.\n",
    "\n",
    "By Fernando Yepes Calderon"
   ]
  },
  {
   "cell_type": "code",
   "execution_count": 2,
   "metadata": {
    "ExecuteTime": {
     "end_time": "2021-11-13T16:02:47.639993Z",
     "start_time": "2021-11-13T16:02:43.441569Z"
    }
   },
   "outputs": [],
   "source": [
    "import matplotlib.pylab as plt\n",
    "import numpy as np\n"
   ]
  },
  {
   "cell_type": "code",
   "execution_count": 3,
   "metadata": {
    "ExecuteTime": {
     "end_time": "2021-11-13T16:02:49.233507Z",
     "start_time": "2021-11-13T16:02:49.226707Z"
    }
   },
   "outputs": [],
   "source": [
    "t = np.arange(0,500)"
   ]
  },
  {
   "cell_type": "code",
   "execution_count": 4,
   "metadata": {
    "ExecuteTime": {
     "end_time": "2021-11-13T16:02:51.699364Z",
     "start_time": "2021-11-13T16:02:51.692269Z"
    }
   },
   "outputs": [],
   "source": [
    "w = 0.1\n",
    "S = np.sin(w*t)"
   ]
  },
  {
   "cell_type": "code",
   "execution_count": null,
   "metadata": {
    "ExecuteTime": {
     "end_time": "2021-11-13T16:02:59.176128Z",
     "start_time": "2021-11-13T16:02:59.032563Z"
    }
   },
   "outputs": [],
   "source": [
    "plt.plot(t, S)\n",
    "plt.show()"
   ]
  },
  {
   "cell_type": "code",
   "execution_count": null,
   "metadata": {
    "ExecuteTime": {
     "end_time": "2021-04-10T18:39:58.356972Z",
     "start_time": "2021-04-10T18:39:58.350812Z"
    }
   },
   "outputs": [],
   "source": [
    "a = S[0:10]\n",
    "b = [k*10 for k in a]\n",
    "a, b"
   ]
  },
  {
   "cell_type": "markdown",
   "metadata": {
    "ExecuteTime": {
     "end_time": "2021-04-10T18:46:29.777159Z",
     "start_time": "2021-04-10T18:46:29.774583Z"
    }
   },
   "source": [
    "# Digital to Analog Convertor\n",
    "\n",
    "You have to create a function that receives the analog value (aval), the power source of A2D conversor (vcc) and the number of bits of the A2D conversor (n). \n",
    "\n",
    "The function should return the digital value equivalent to the given analog value.\n",
    "\n",
    "<ol>\n",
    "    <li>Assign amplitude to the signal S by using S2 = A*sin(w*t).\n",
    "    <li>Plot S2 with A in range [5,10,15,20]\n",
    "    <li>Assume a A/D converter with Vcc in 20 VDC and 5 bits.\n",
    "    <li>Convert each value of signal a array S3 = 20*sin(w*t) with the designed converter. \n",
    "    <li>Plot the resulting digitalized signal\n",
    "</ol>\n",
    "\n"
   ]
  },
  {
   "cell_type": "code",
   "execution_count": 28,
   "metadata": {
    "ExecuteTime": {
     "end_time": "2021-04-10T18:41:11.845442Z",
     "start_time": "2021-04-10T18:41:11.842213Z"
    }
   },
   "outputs": [],
   "source": [
    "def digi(aval, vcc, n):\n",
    "    \n",
    "    "
   ]
  }
 ],
 "metadata": {
  "kernelspec": {
   "display_name": "Python 3",
   "language": "python",
   "name": "python3"
  },
  "language_info": {
   "codemirror_mode": {
    "name": "ipython",
    "version": 3
   },
   "file_extension": ".py",
   "mimetype": "text/x-python",
   "name": "python",
   "nbconvert_exporter": "python",
   "pygments_lexer": "ipython3",
   "version": "3.7.4"
  },
  "toc": {
   "base_numbering": 1,
   "nav_menu": {},
   "number_sections": true,
   "sideBar": true,
   "skip_h1_title": false,
   "title_cell": "Table of Contents",
   "title_sidebar": "Contents",
   "toc_cell": false,
   "toc_position": {},
   "toc_section_display": true,
   "toc_window_display": false
  }
 },
 "nbformat": 4,
 "nbformat_minor": 5
}
